{
 "cells": [
  {
   "cell_type": "markdown",
   "metadata": {},
   "source": [
    "# Simulating Plays using Generative Tracking Models\n",
    "\n",
    "Metric Track | Authors: Tiago Mendes-Neves, Luís Meireles, Nuno de Almeida, João Mendes-Moreira\n",
    "\n",
    "---"
   ]
  },
  {
   "cell_type": "markdown",
   "metadata": {},
   "source": [
    "# Index\n",
    "- Introduction\n",
    "- Modelling\n",
    "- Measuring team unpredictability"
   ]
  },
  {
   "cell_type": "markdown",
   "metadata": {},
   "source": [
    "# Introduction"
   ]
  },
  {
   "cell_type": "markdown",
   "metadata": {},
   "source": [
    "Every time there is a idea for a new metric, there is a big wall that data professionals have to face: building a new model before they have the chance to event test if their hypothesis is valid. Generative Tracking Models remove this burden and supercharge metric building. We present new metrics to forecast how a play is likely to develop and use these insights to calculate how unpredictable a team is in their play style. \n",
    "\n",
    "\n",
    "[TODO add visualization + heatmap of where the ball will be in 2 seconds]\n",
    "\n"
   ]
  },
  {
   "cell_type": "markdown",
   "metadata": {},
   "source": []
  },
  {
   "cell_type": "markdown",
   "metadata": {},
   "source": []
  },
  {
   "cell_type": "markdown",
   "metadata": {},
   "source": [
    "# Unpredictability"
   ]
  },
  {
   "cell_type": "markdown",
   "metadata": {},
   "source": []
  }
 ],
 "metadata": {
  "language_info": {
   "name": "python"
  }
 },
 "nbformat": 4,
 "nbformat_minor": 2
}
