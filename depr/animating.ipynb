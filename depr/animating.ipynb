{
 "cells": [
  {
   "cell_type": "code",
   "execution_count": 1,
   "metadata": {},
   "outputs": [],
   "source": [
    "import pandas as pd\n",
    "import matplotlib.pyplot as plt\n",
    "import matplotlib.animation as animation\n",
    "import numpy as np\n",
    "import imageio"
   ]
  },
  {
   "cell_type": "code",
   "execution_count": 2,
   "metadata": {},
   "outputs": [],
   "source": [
    "file_path = 'data/tracking_week_4.csv'  # Replace with your actual file path\n",
    "game_id = 2022092900  # Replace with the desired game ID\n",
    "play_id = 57  # Replace with the desired play ID\n",
    "output_file = 'output/football_play_animation.gif'"
   ]
  },
  {
   "cell_type": "code",
   "execution_count": 3,
   "metadata": {},
   "outputs": [],
   "source": [
    "def load_and_filter_data(file_path, game_id, play_id):\n",
    "    df = pd.read_csv(file_path)\n",
    "    play_data = df[(df['gameId'] == game_id) & (df['playId'] == play_id)]\n",
    "    return play_data\n",
    "\n",
    "def create_football_field(ax):\n",
    "    ax.set_facecolor('green')\n",
    "    \n",
    "    # Add yard lines\n",
    "    for yard in range(10, 110, 10):\n",
    "        ax.axvline(yard, color='white', linestyle='-', linewidth=2)\n",
    "        if yard == 50:\n",
    "            ax.text(yard, 5, str(yard), color='white', ha='center')\n",
    "        elif yard < 50:\n",
    "            ax.text(yard, 5, str(yard), color='white', ha='center')\n",
    "            ax.text(120-yard, 5, str(yard), color='white', ha='center')\n",
    "    \n",
    "    # Add end zones\n",
    "    ax.axvspan(0, 10, facecolor='blue', alpha=0.3)\n",
    "    ax.axvspan(110, 120, facecolor='red', alpha=0.3)\n",
    "\n",
    "def update_play(frame, play_data, scatter_dict, ball_scatter, frame_text, ax, full_field_view_mode):\n",
    "    frame_data = play_data[play_data['frameId'] == frame]\n",
    "    \n",
    "    for team in scatter_dict.keys():\n",
    "        if team == 'football':\n",
    "            continue\n",
    "        team_data = frame_data[frame_data['club'] == team]\n",
    "        scatter_dict[team].set_offsets(team_data[['x', 'y']])\n",
    "        # Update jersey numbers\n",
    "        for i, player in team_data.iterrows():\n",
    "            ax.annotate(str(int(player['jerseyNumber'])), \n",
    "                        (player['x'], player['y']),\n",
    "                        xytext=(0, 5),\n",
    "                        textcoords='offset points',\n",
    "                        ha='center',\n",
    "                        fontsize=8)\n",
    "    \n",
    "    ball_data = frame_data[frame_data['nflId'].isna()]\n",
    "    if not ball_data.empty:\n",
    "        ball_scatter.set_offsets(ball_data[['x', 'y']])\n",
    "\n",
    "    frame_text.set_text(f\"Frame: {frame}\")\n",
    "\n",
    "    if full_field_view_mode:\n",
    "        # Setting field limits\n",
    "        padding = 5\n",
    "        ax.set_xlim(-padding, 120+padding)\n",
    "        ax.set_ylim(-padding, 53.3+padding)\n",
    "\n",
    "    else:\n",
    "        # Adjust the field of view\n",
    "        x_min, x_max = frame_data['x'].min(), frame_data['x'].max()\n",
    "        y_min, y_max = frame_data['y'].min(), frame_data['y'].max()\n",
    "        \n",
    "        # Add some padding\n",
    "        padding = 10\n",
    "        ax.set_xlim(max(0, x_min - padding), min(120, x_max + padding))\n",
    "        ax.set_ylim(max(0, y_min - padding), min(53.3, y_max + padding))\n",
    "\n",
    "    \n",
    "    # Clear previous annotations\n",
    "    for artist in ax.artists + ax.texts:\n",
    "        if artist != frame_text:\n",
    "            artist.remove()\n",
    "    \n",
    "    return list(scatter_dict.values()) + [ball_scatter, frame_text]\n",
    "\n",
    "def create_play_animation(play_data, output_file, full_field_view_mode=False):\n",
    "    fig, ax = plt.subplots(figsize=(12, 6))\n",
    "    create_football_field(ax)\n",
    "    \n",
    "    # Determine all unique teams\n",
    "    teams = play_data['club'].unique()\n",
    "    \n",
    "    # Create initial scatter plots for each team and the ball\n",
    "    scatter_dict = {team: ax.scatter([], [], s=100, label=team) for team in teams}\n",
    "    ball_scatter = ax.scatter([], [], color='brown', s=50, label='Ball')\n",
    "    \n",
    "    # Add frame text\n",
    "    frame_text = ax.text(0.02, 0.95, '', fontsize=10, transform=ax.transAxes)\n",
    "    \n",
    "    # Create the animation\n",
    "    anim = animation.FuncAnimation(\n",
    "        fig, update_play, frames=play_data['frameId'].unique(),\n",
    "        fargs=(play_data, scatter_dict, ball_scatter, frame_text, ax, full_field_view_mode),\n",
    "        interval=100, blit=False\n",
    "    )\n",
    "    \n",
    "    # Save the animation as a GIF\n",
    "    anim.save(output_file, writer='pillow', fps=10)\n",
    "    plt.close(fig)"
   ]
  },
  {
   "cell_type": "code",
   "execution_count": 4,
   "metadata": {},
   "outputs": [
    {
     "name": "stdout",
     "output_type": "stream",
     "text": [
      "Animation saved as football_play_animation.gif\n"
     ]
    }
   ],
   "source": [
    "play_data = load_and_filter_data(file_path, game_id, play_id)\n",
    "create_play_animation(play_data, output_file, full_field_view_mode=False)\n",
    "\n",
    "print(f\"Animation saved as {output_file}\")"
   ]
  },
  {
   "cell_type": "code",
   "execution_count": null,
   "metadata": {},
   "outputs": [],
   "source": []
  }
 ],
 "metadata": {
  "kernelspec": {
   "display_name": "Python 3",
   "language": "python",
   "name": "python3"
  },
  "language_info": {
   "codemirror_mode": {
    "name": "ipython",
    "version": 3
   },
   "file_extension": ".py",
   "mimetype": "text/x-python",
   "name": "python",
   "nbconvert_exporter": "python",
   "pygments_lexer": "ipython3",
   "version": "3.12.6"
  }
 },
 "nbformat": 4,
 "nbformat_minor": 2
}
