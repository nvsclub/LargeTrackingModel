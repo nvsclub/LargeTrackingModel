{
 "cells": [
  {
   "cell_type": "code",
   "execution_count": null,
   "metadata": {},
   "outputs": [],
   "source": [
    "import pandas as pd\n",
    "import numpy as np\n",
    "\n",
    "import torch\n",
    "import torch.nn as nn\n",
    "import torch.nn.functional as F\n",
    "import torch.optim as optim\n",
    "import torch.distributions as dist\n",
    "import matplotlib.pyplot as plt\n",
    "\n",
    "from tqdm import tqdm\n",
    "import copy\n",
    "\n",
    "pd.set_option('display.max_columns', 500)"
   ]
  },
  {
   "cell_type": "code",
   "execution_count": null,
   "metadata": {},
   "outputs": [],
   "source": [
    "BALL_VARS = ['ballx', 'bally']\n",
    "VARS_X = [f'p{i}x' for i in range(1, 23)]\n",
    "VARS_Y = [f'p{i}y' for i in range(1, 23)]\n",
    "CONTEXT_VARS = BALL_VARS + VARS_X + VARS_Y\n",
    "FRAME_VARS = [f.replace('x', 'dx').replace('y', 'dy') for f in CONTEXT_VARS]"
   ]
  },
  {
   "cell_type": "code",
   "execution_count": null,
   "metadata": {},
   "outputs": [],
   "source": [
    "N_CONTEXT_FRAMES = 1\n",
    "DEVICE = torch.device('cuda' if torch.cuda.is_available() else 'cpu')"
   ]
  },
  {
   "cell_type": "code",
   "execution_count": null,
   "metadata": {},
   "outputs": [
    {
     "name": "stdout",
     "output_type": "stream",
     "text": [
      "playDirection 0\n",
      "c1_ball_xy 1 3\n",
      "c1_player_x 3 25\n",
      "c1_player_y 25 47\n",
      "c1_player_dx 47 69\n",
      "c1_player_dy 69 91\n",
      "player_dx 91 113\n",
      "player_dy 113 135\n",
      "ball_dxdy 135 137\n",
      "137\n"
     ]
    }
   ],
   "source": [
    "MODEL_LAYERS = {\n",
    "    'layer_1': {\n",
    "        'input': ['playDirection'] + [f'c1_{var}' for var in CONTEXT_VARS] + [f'c1_{var}' for var in FRAME_VARS],\n",
    "        'output': [var for var in FRAME_VARS if ('dx' in var) and ('ball' not in var)],\n",
    "    },\n",
    "    'layer_2': {\n",
    "        'input': ['playDirection'] + [f'c1_{var}' for var in CONTEXT_VARS] + [f'c1_{var}' for var in FRAME_VARS] + [var for var in FRAME_VARS if ('dx' in var) and ('ball' not in var)],\n",
    "        'output': [var for var in FRAME_VARS if ('dy' in var) and ('ball' not in var)],\n",
    "    },\n",
    "    'layer_3': {\n",
    "        'input': ['playDirection'] + [f'c1_{var}' for var in CONTEXT_VARS] + [f'c1_{var}' for var in FRAME_VARS] + [var for var in FRAME_VARS if ('dx' in var) and ('ball' not in var)] + [var for var in FRAME_VARS if ('dy' in var) and ('ball' not in var)],\n",
    "        'output': [var for var in FRAME_VARS if 'ball' in var],\n",
    "    },\n",
    "}\n",
    "\n",
    "print('playDirection', 0)\n",
    "print('c1_ball_xy', 1, 1 + len(BALL_VARS))\n",
    "print('c1_player_x', 1 + len(BALL_VARS), 1 + len(BALL_VARS) + len(VARS_X))\n",
    "print('c1_player_y', 1 + len(BALL_VARS) + len(VARS_X), 1 + len(BALL_VARS) + len(VARS_X) + len(VARS_Y))\n",
    "print('c1_player_dx', 1 + len(BALL_VARS) + len(VARS_X) + len(VARS_Y), 1 + len(BALL_VARS) + len(VARS_X) + len(VARS_Y) + len(VARS_X))\n",
    "print('c1_player_dy', 1 + len(BALL_VARS) + len(VARS_X) + len(VARS_Y) + len(VARS_X), 1 + len(BALL_VARS) + len(VARS_X) + len(VARS_Y) + len(VARS_X) + len(VARS_Y))\n",
    "print('player_dx', 1 + len(BALL_VARS) + len(VARS_X) + len(VARS_Y) + len(VARS_X) + len(VARS_Y), 1 + len(BALL_VARS) + len(VARS_X) + len(VARS_Y) + len(VARS_X) + len(VARS_Y) + len(VARS_X))\n",
    "print('player_dy', 1 + len(BALL_VARS) + len(VARS_X) + len(VARS_Y) + len(VARS_X) + len(VARS_Y) + len(VARS_X), 1 + len(BALL_VARS) + len(VARS_X) + len(VARS_Y) + len(VARS_X) + len(VARS_Y) + len(VARS_X) + len(VARS_Y))\n",
    "print('ball_dxdy', 1 + len(BALL_VARS) + len(VARS_X) + len(VARS_Y) + len(VARS_X) + len(VARS_Y) + len(VARS_X) + len(VARS_Y), 1 + len(BALL_VARS) + len(VARS_X) + len(VARS_Y) + len(VARS_X) + len(VARS_Y) + len(VARS_X) + len(VARS_Y) + len(BALL_VARS))\n",
    "print(len(MODEL_LAYERS['layer_3']['input']))"
   ]
  },
  {
   "cell_type": "markdown",
   "metadata": {},
   "source": [
    "# Loading data"
   ]
  },
  {
   "cell_type": "code",
   "execution_count": null,
   "metadata": {},
   "outputs": [],
   "source": [
    "data = pd.read_feather('data/tracking2.feather')"
   ]
  },
  {
   "cell_type": "code",
   "execution_count": null,
   "metadata": {},
   "outputs": [],
   "source": [
    "features = ['playDirection']\n",
    "# add context vars\n",
    "i = 1\n",
    "data_context = data.shift(i)\n",
    "data_context.loc[data_context['gameId'] != data['gameId'], FRAME_VARS] = pd.NA\n",
    "data_context = data_context[CONTEXT_VARS].add_prefix(f'c{i}_')\n",
    "data = pd.concat([data, data_context], axis=1)\n",
    "features += list(data_context.columns)\n",
    "# add frame vars\n",
    "for i in range(1, N_CONTEXT_FRAMES + 1):\n",
    "    data_context = data.shift(i)\n",
    "    data_context.loc[data_context['gameId'] != data['gameId'], FRAME_VARS] = pd.NA\n",
    "    data_context = data_context[FRAME_VARS].add_prefix(f'c{i}_')\n",
    "    data = pd.concat([data, data_context], axis=1)\n",
    "    features += list(data_context.columns)\n",
    "\n",
    "data = data.dropna()"
   ]
  },
  {
   "cell_type": "code",
   "execution_count": null,
   "metadata": {},
   "outputs": [],
   "source": [
    "data"
   ]
  },
  {
   "cell_type": "code",
   "execution_count": null,
   "metadata": {},
   "outputs": [],
   "source": [
    "data = data[data['is_after_snap'] == True]"
   ]
  },
  {
   "cell_type": "code",
   "execution_count": null,
   "metadata": {},
   "outputs": [],
   "source": [
    "print(features, len(features))"
   ]
  },
  {
   "cell_type": "code",
   "execution_count": null,
   "metadata": {},
   "outputs": [],
   "source": [
    "train_data = data[data['gameId'] < 2022101700]\n",
    "val_data = data[(data['gameId'] >= 2022101700) & (data['gameId'] < 2022102400)]\n",
    "test_data = data[data['gameId'] >= 2022102400]"
   ]
  },
  {
   "cell_type": "markdown",
   "metadata": {},
   "source": [
    "# Modeling"
   ]
  },
  {
   "cell_type": "code",
   "execution_count": null,
   "metadata": {},
   "outputs": [],
   "source": [
    "# MDN Model Definition\n",
    "class MDN(nn.Module):\n",
    "    def __init__(self, input_dim, output_dim, n_gaussians):\n",
    "        super(MDN, self).__init__()\n",
    "\n",
    "        self.output_dim = output_dim\n",
    "        self.n_gaussians = n_gaussians\n",
    "\n",
    "        self.fc1 = nn.Linear(input_dim, 1024)\n",
    "        self.dropout1 = nn.Dropout(p=0.2)\n",
    "        self.fc2 = nn.Linear(1024, 1024)\n",
    "        self.dropout2 = nn.Dropout(p=0.2)\n",
    "        self.fc_mu = nn.Linear(1024, output_dim * n_gaussians * 2)   # Means\n",
    "        self.fc_sigma = nn.Linear(1024, output_dim * n_gaussians * 2) # Std deviations\n",
    "        self.fc_pi = nn.Linear(1024, output_dim * n_gaussians)        # Mixture weights\n",
    "\n",
    "    def forward(self, x):\n",
    "        x = torch.relu(self.fc1(x))\n",
    "        x = self.dropout1(x)\n",
    "        x = torch.relu(self.fc2(x))\n",
    "        x = self.dropout2(x)\n",
    "        mu = self.fc_mu(x).view(-1, self.output_dim, self.n_gaussians)\n",
    "        sigma = F.softplus(self.fc_sigma(x)).view(-1, self.output_dim, self.n_gaussians)# + 1e-6\n",
    "        pi = torch.softmax(self.fc_pi(x).view(-1, self.output_dim, self.n_gaussians), dim=-1)\n",
    "        return mu, sigma, pi\n",
    "\n",
    "# Loss function\n",
    "def mdn_nll_loss(y, mu, sigma, pi):\n",
    "    m = dist.Normal(mu, sigma)\n",
    "    log_prob = m.log_prob(y.unsqueeze(2))  # Add Gaussian components dimension\n",
    "    log_prob = torch.sum(log_prob, dim=-1) # Sum over x and y dimensions\n",
    "    weighted_log_prob = log_prob + torch.log(pi)\n",
    "    nll = -torch.logsumexp(weighted_log_prob, dim=-1)  # Log-sum-exp over gaussians\n",
    "    return nll.mean()\n",
    "\n",
    "# Sampling function\n",
    "def sample_from_mdn(mu, sigma, pi, n_samples=1):\n",
    "    batch_size, n_points, n_gaussians, _ = mu.shape\n",
    "    samples = []\n",
    "\n",
    "    for b in range(batch_size):\n",
    "        point_samples = []\n",
    "        for p in range(n_points):\n",
    "            # Sample component\n",
    "            categorical = dist.Categorical(pi[b, p])\n",
    "            component = categorical.sample((n_samples,))\n",
    "            \n",
    "            # Sample from Gaussian\n",
    "            chosen_mu = mu[b, p, component, :]\n",
    "            chosen_sigma = sigma[b, p, component, :]\n",
    "\n",
    "            # Check if elements in chosen_sigma are close to zero\n",
    "            is_sigma_zero = torch.isclose(chosen_sigma, torch.zeros_like(chosen_sigma))\n",
    "            \n",
    "            # Set sigma to 1 temporarily where it's close to zero to avoid errors during sampling\n",
    "            safe_sigma = torch.where(is_sigma_zero, torch.ones_like(chosen_sigma), chosen_sigma)\n",
    "            \n",
    "            # Sample from Normal distribution with safe_sigma\n",
    "            normal_dist = dist.Normal(chosen_mu, safe_sigma)\n",
    "            samples_for_point = normal_dist.sample()\n",
    "            \n",
    "            # Replace values where sigma was originally close to zero with mean\n",
    "            samples_for_point = torch.where(is_sigma_zero, chosen_mu, samples_for_point)\n",
    "            \n",
    "            point_samples.append(samples_for_point)\n",
    "\n",
    "        samples.append(torch.stack(point_samples).squeeze(1))\n",
    "    \n",
    "    return torch.stack(samples)  # Shape: (batch_size, n_points, n_samples, 2)"
   ]
  },
  {
   "cell_type": "code",
   "execution_count": null,
   "metadata": {},
   "outputs": [],
   "source": [
    "n_gaussians = 3 # Number of mixture components"
   ]
  },
  {
   "cell_type": "code",
   "execution_count": null,
   "metadata": {},
   "outputs": [],
   "source": [
    "for layer in MODEL_LAYERS.values():\n",
    "    x_train = torch.tensor(train_data[layer['input']].values, dtype=torch.float32).to(DEVICE)\n",
    "    y_train = torch.tensor(train_data[layer['output']].values, dtype=torch.float32).to(DEVICE)\n",
    "    x_val = torch.tensor(val_data[layer['input']].values, dtype=torch.float32).to(DEVICE)\n",
    "    y_val = torch.tensor(val_data[layer['output']].values, dtype=torch.float32).to(DEVICE)\n",
    "\n",
    "    train_dataset = torch.utils.data.TensorDataset(x_train, y_train)\n",
    "    val_dataset = torch.utils.data.TensorDataset(x_val, y_val)\n",
    "\n",
    "    train_loader = torch.utils.data.DataLoader(train_dataset, batch_size=1024, shuffle=True)\n",
    "    val_loader = torch.utils.data.DataLoader(val_dataset, batch_size=1024, shuffle=False)\n",
    "\n",
    "    model = MDN(input_dim=len(layer['input']), output_dim=len(layer['output']), n_gaussians=n_gaussians).to(DEVICE)\n",
    "    optimizer = optim.Adam(model.parameters(), lr=0.001)\n",
    "    n_epochs = 25\n",
    "    "
   ]
  },
  {
   "cell_type": "code",
   "execution_count": null,
   "metadata": {},
   "outputs": [],
   "source": [
    "for epoch in range(n_epochs):\n",
    "    for x_train, y_train in tqdm(train_loader):\n",
    "        optimizer.zero_grad()\n",
    "        mu, sigma, pi = model(x_train)\n",
    "        loss = mdn_nll_loss(y_train, mu, sigma, pi)\n",
    "        loss.backward()\n",
    "        optimizer.step()\n",
    "        \n",
    "    if ((epoch % 1)) == 0:\n",
    "        val_loss = 0\n",
    "        for x_val, y_val in val_loader:\n",
    "            mu, sigma, pi = model(x_val)\n",
    "            val_loss += mdn_nll_loss(y_val, mu, sigma, pi).item()\n",
    "        val_loss /= len(val_loader)\n",
    "        print(f\"Epoch {epoch}, Loss: {loss.item():.4f}, Val Loss: {val_loss:.4f}\")"
   ]
  },
  {
   "cell_type": "markdown",
   "metadata": {},
   "source": [
    "# Plotting"
   ]
  },
  {
   "cell_type": "code",
   "execution_count": null,
   "metadata": {},
   "outputs": [],
   "source": [
    "play_data = val_data[(val_data['gameId'] == 2022101700) & (val_data['playId'] == 90)]\n",
    "play_data.shape, play_data['playDirection'].iloc[0]"
   ]
  },
  {
   "cell_type": "code",
   "execution_count": null,
   "metadata": {},
   "outputs": [],
   "source": [
    "for i in range(1, 23):\n",
    "    plt.plot(play_data[f'p{i}x'], play_data[f'p{i}y'], '.', color='red' if i <= 11 else 'blue', markersize=2, alpha=0.5)\n",
    "plt.plot(play_data['ballx'], play_data['bally'], 'o', color='black')\n",
    "plt.xlim(0, 1);\n",
    "plt.ylim(0, 1);"
   ]
  },
  {
   "cell_type": "code",
   "execution_count": null,
   "metadata": {},
   "outputs": [],
   "source": [
    "frames = []\n",
    "\n",
    "current_frame = play_data.iloc[0][features].values.tolist()\n",
    "for i in tqdm(range(play_data.shape[0])):\n",
    "    x = torch.tensor(current_frame, dtype=torch.float32).to(DEVICE).unsqueeze(0)\n",
    "    mu, sigma, pi = model(x)\n",
    "    samples = sample_from_mdn(mu, sigma, pi, n_samples=1).squeeze(2).detach().cpu().numpy()\n",
    "    # Sum the sample with the current frame to get the next frame\n",
    "    current_frame[1:n_points * 2 + 1] += samples.flatten()\n",
    "    # shift the context frames\n",
    "    current_frame = np.concat([current_frame[:n_points * 2 + 1], samples.flatten(), current_frame[2 * n_points * 2 + 1:]])\n",
    "    frames.append(current_frame[1:n_points * 2 + 1])\n",
    "    \n",
    "frames = pd.DataFrame(frames, columns=CONTEXT_VARS)"
   ]
  },
  {
   "cell_type": "code",
   "execution_count": null,
   "metadata": {},
   "outputs": [],
   "source": [
    "plt.rcParams['figure.figsize'] = [7.5, 5]\n",
    "for i in range(1, 23):\n",
    "    plt.plot(frames[f'p{i}x'], frames[f'p{i}y'], '.', color='red' if i <= 11 else 'blue', markersize=2, alpha=0.5)\n",
    "plt.plot(frames['ballx'], frames['bally'], color='black', marker='o')\n",
    "plt.xlim(0, 1);\n",
    "plt.ylim(0, 1);"
   ]
  },
  {
   "cell_type": "code",
   "execution_count": null,
   "metadata": {},
   "outputs": [],
   "source": [
    "ball_positions_in_lookahead = {}\n",
    "max_lookahead = 70\n",
    "\n",
    "current_frame = play_data.iloc[0][features].values.tolist()\n",
    "current_frame = [current_frame for _ in range(100)]\n",
    "x = torch.tensor(current_frame, dtype=torch.float32).to(DEVICE)\n",
    "for i in tqdm(range(max_lookahead + 1)):\n",
    "    mu, sigma, pi = model(x)\n",
    "    samples = sample_from_mdn(mu, sigma, pi, n_samples=1).squeeze(2).detach().cpu().numpy()\n",
    "    samples = torch.tensor([sample.flatten() for sample in samples], dtype=torch.float32).to(DEVICE)\n",
    "    x[:, 1:n_points * 2 + 1] += samples\n",
    "    x = torch.concat([x[:, :n_points * 2 + 1], samples], axis=1)\n",
    "\n",
    "    if (i % 10 == 0) and (i != 0):\n",
    "        ball_positions_in_lookahead[str(i)] = x[:, 1:3].detach().cpu().numpy()"
   ]
  },
  {
   "cell_type": "markdown",
   "metadata": {},
   "source": [
    "ball_positions_in_lookahead = {'10': [], '20': [], '30': [], '40': [], '50': [], '60': [], '70': []}\n",
    "max_lookahead = 70\n",
    "for i in tqdm(range(100)):\n",
    "    current_frame = play_data.iloc[0][features].values.tolist()\n",
    "    for i in range(max_lookahead + 1):\n",
    "        x = torch.tensor(current_frame, dtype=torch.float32).to(DEVICE).unsqueeze(0)\n",
    "        mu, sigma, pi = model(x)\n",
    "        samples = sample_from_mdn(mu, sigma, pi, n_samples=1).squeeze(2).detach().cpu().numpy()\n",
    "        # Sum the sample with the current frame to get the next frame\n",
    "        current_frame[1:n_points * 2 + 1] += samples.flatten()\n",
    "        # shift the context frames\n",
    "        current_frame = np.concat([current_frame[:n_points * 2 + 1], samples.flatten(), current_frame[2 * n_points * 2 + 1:]])\n",
    "\n",
    "        if (i % 10 == 0) and (i != 0):\n",
    "            ball_positions_in_lookahead[str(i)].append(current_frame[1:3])"
   ]
  },
  {
   "cell_type": "code",
   "execution_count": null,
   "metadata": {},
   "outputs": [],
   "source": [
    "plt.rcParams['figure.figsize'] = [7.5, 5]\n",
    "for i, ball_positions in enumerate(ball_positions_in_lookahead.values()):\n",
    "    lookahead_data = pd.DataFrame(ball_positions, columns=['ballx', 'bally'])\n",
    "    plt.scatter(lookahead_data['ballx'], lookahead_data['bally'], c=f'C{i}', alpha=0.5)\n",
    "plt.scatter(play_data.iloc[0]['ballx'], play_data.iloc[0]['bally'], c='black')\n",
    "plt.xlim(0, 1);\n",
    "plt.ylim(0, 1);"
   ]
  },
  {
   "cell_type": "code",
   "execution_count": null,
   "metadata": {},
   "outputs": [],
   "source": [
    "import seaborn as sns\n",
    "plt.rcParams['figure.figsize'] = [7.5, 5]\n",
    "cmaps = ['Reds', 'Blues', 'Greens', 'Purples', 'Oranges', 'Greys']\n",
    "for i, ball_positions in enumerate(list(ball_positions_in_lookahead.values())[:6]):\n",
    "    lookahead_data = pd.DataFrame(ball_positions, columns=['ballx', 'bally'])\n",
    "    sns.kdeplot(x=lookahead_data['ballx'], y=lookahead_data['bally'], cmap=cmaps[i])\n",
    "plt.scatter(play_data.iloc[0]['ballx'], play_data.iloc[0]['bally'], c='black')\n",
    "plt.xlim(0, 1);\n",
    "plt.ylim(0, 1);"
   ]
  },
  {
   "cell_type": "code",
   "execution_count": null,
   "metadata": {},
   "outputs": [],
   "source": [
    "plt.rcParams['figure.figsize'] = [30, 5]\n",
    "cmaps = ['Reds', 'Blues', 'Greens', 'Purples', 'Oranges', 'Greys', 'pink', 'copper', 'bone', 'hot', 'cool', 'spring', 'summer', 'autumn', 'winter', 'cividis', 'twilight', 'twilight_shifted', 'hsv', 'viridis', 'plasma', 'inferno', 'magma']\n",
    "n_lookaheads = len(list(ball_positions_in_lookahead.values()))\n",
    "for i, ball_positions in enumerate(list(ball_positions_in_lookahead.values())):\n",
    "    plt.subplot(1, n_lookaheads, i+1)\n",
    "    plt.title(f'Lookahead {i * 10}')\n",
    "    lookahead_data = pd.DataFrame(ball_positions, columns=['ballx', 'bally'])\n",
    "    sns.kdeplot(x=lookahead_data['bally'], y=lookahead_data['ballx'], cmap='cividis_r')\n",
    "    plt.scatter(play_data.iloc[0]['bally'], play_data.iloc[0]['ballx'], c='black', zorder=10)\n",
    "    plt.plot(play_data.iloc[:10*i]['bally'], play_data.iloc[:10*i]['ballx'], color='black', marker='.', markersize=1)\n",
    "    plt.xlim(0, 1);\n",
    "    plt.ylim(0, 1);"
   ]
  },
  {
   "cell_type": "code",
   "execution_count": null,
   "metadata": {},
   "outputs": [],
   "source": [
    "plt.rcParams['figure.figsize'] = [30, 5]\n",
    "cmaps = ['Reds', 'Blues', 'Greens', 'Purples']\n",
    "for i, ball_positions_in_lookahead in enumerate([ball_positions_in_lookahead_10, ball_positions_in_lookahead_20, ball_positions_in_lookahead_30, ball_positions_in_lookahead_40]):\n",
    "    # plt.subplot(1, 4, i+1)\n",
    "    lookahead_data = pd.DataFrame(ball_positions_in_lookahead, columns=['ballx', 'bally'])\n",
    "    sns.jointplot(data=lookahead_data, x=\"ballx\", y=\"bally\", kind=\"kde\", cmap=cmaps[i])#hue=\"species\", \n",
    "    # sns.kdeplot(x=lookahead_data['ballx'], y=lookahead_data['bally'])\n",
    "    plt.scatter(play_data.iloc[0]['ballx'], play_data.iloc[0]['bally'], c='black')\n",
    "    plt.xlim(0, 1);\n",
    "    plt.ylim(0, 1);"
   ]
  },
  {
   "cell_type": "code",
   "execution_count": null,
   "metadata": {},
   "outputs": [],
   "source": []
  },
  {
   "cell_type": "code",
   "execution_count": null,
   "metadata": {},
   "outputs": [],
   "source": [
    "current_frame = play_data.iloc[0][features].values\n",
    "x = torch.tensor(current_frame, dtype=torch.float32).to(DEVICE).unsqueeze(0)\n",
    "mu, sigma, pi = model(x)\n",
    "mu.flatten()"
   ]
  },
  {
   "cell_type": "code",
   "execution_count": null,
   "metadata": {},
   "outputs": [],
   "source": [
    "current_frame.round(4)"
   ]
  },
  {
   "cell_type": "code",
   "execution_count": null,
   "metadata": {},
   "outputs": [],
   "source": [
    "sigma.flatten()"
   ]
  },
  {
   "cell_type": "code",
   "execution_count": null,
   "metadata": {},
   "outputs": [],
   "source": [
    "mu.flatten().detach().cpu().numpy() - current_frame.round(4)"
   ]
  }
 ],
 "metadata": {
  "kernelspec": {
   "display_name": "Python 3",
   "language": "python",
   "name": "python3"
  },
  "language_info": {
   "codemirror_mode": {
    "name": "ipython",
    "version": 3
   },
   "file_extension": ".py",
   "mimetype": "text/x-python",
   "name": "python",
   "nbconvert_exporter": "python",
   "pygments_lexer": "ipython3",
   "version": "3.12.7"
  }
 },
 "nbformat": 4,
 "nbformat_minor": 2
}
